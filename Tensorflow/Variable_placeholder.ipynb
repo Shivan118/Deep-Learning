{
  "nbformat": 4,
  "nbformat_minor": 0,
  "metadata": {
    "colab": {
      "name": "Variable_placeholder.ipynb",
      "provenance": []
    },
    "kernelspec": {
      "name": "python3",
      "display_name": "Python 3"
    }
  },
  "cells": [
    {
      "cell_type": "markdown",
      "metadata": {
        "id": "uHB_qu9T1_ym",
        "colab_type": "text"
      },
      "source": [
        "**There are two types of tensorflow**\n",
        "\n",
        "objects in graph:\n",
        "\n",
        "-Variable\n",
        "\n",
        "-Placeholder"
      ]
    },
    {
      "cell_type": "markdown",
      "metadata": {
        "id": "2FyQDQKJ2RPD",
        "colab_type": "text"
      },
      "source": [
        "During the optimization process tensorflow tunes the parameters of the model.\n",
        "\n",
        "Variables can hold the values of weights and baises throughout the session.\n",
        "\n",
        "Variable need to be initialized."
      ]
    },
    {
      "cell_type": "markdown",
      "metadata": {
        "id": "3fT4FHlI2uQ7",
        "colab_type": "text"
      },
      "source": [
        "Placeholdera are initially empty and are used to feed in the actual training examples.\n",
        "\n",
        "However they do need a declared expected data type (tffloat32) with anoptional shape argument."
      ]
    },
    {
      "cell_type": "markdown",
      "metadata": {
        "id": "pGWEQAZW1z6T",
        "colab_type": "text"
      },
      "source": [
        "**Variable and placeholder**"
      ]
    },
    {
      "cell_type": "code",
      "metadata": {
        "id": "DbisLA0j15DW",
        "colab_type": "code",
        "colab": {
          "base_uri": "https://localhost:8080/",
          "height": 63
        },
        "outputId": "44fa5435-b7ec-459a-c1ae-9604d0e41861"
      },
      "source": [
        "import tensorflow as tf"
      ],
      "execution_count": 1,
      "outputs": [
        {
          "output_type": "display_data",
          "data": {
            "text/html": [
              "<p style=\"color: red;\">\n",
              "The default version of TensorFlow in Colab will soon switch to TensorFlow 2.x.<br>\n",
              "We recommend you <a href=\"https://www.tensorflow.org/guide/migrate\" target=\"_blank\">upgrade</a> now \n",
              "or ensure your notebook will continue to use TensorFlow 1.x via the <code>%tensorflow_version 1.x</code> magic:\n",
              "<a href=\"https://colab.research.google.com/notebooks/tensorflow_version.ipynb\" target=\"_blank\">more info</a>.</p>\n"
            ],
            "text/plain": [
              "<IPython.core.display.HTML object>"
            ]
          },
          "metadata": {
            "tags": []
          }
        }
      ]
    },
    {
      "cell_type": "code",
      "metadata": {
        "id": "TK9xv_lC3I_s",
        "colab_type": "code",
        "colab": {}
      },
      "source": [
        "sess = tf.InteractiveSession()"
      ],
      "execution_count": 0,
      "outputs": []
    },
    {
      "cell_type": "code",
      "metadata": {
        "id": "fo8dWGJQ3R7x",
        "colab_type": "code",
        "colab": {}
      },
      "source": [
        "my_tensor = tf.random_uniform((4,4), 0, 1)"
      ],
      "execution_count": 0,
      "outputs": []
    },
    {
      "cell_type": "code",
      "metadata": {
        "id": "yTaV2Jqj3Wn7",
        "colab_type": "code",
        "colab": {
          "base_uri": "https://localhost:8080/",
          "height": 34
        },
        "outputId": "d042660c-3107-43b5-b6b1-a7d58e0b6bb8"
      },
      "source": [
        "my_tensor"
      ],
      "execution_count": 5,
      "outputs": [
        {
          "output_type": "execute_result",
          "data": {
            "text/plain": [
              "<tf.Tensor 'random_uniform_1:0' shape=(4, 4) dtype=float32>"
            ]
          },
          "metadata": {
            "tags": []
          },
          "execution_count": 5
        }
      ]
    },
    {
      "cell_type": "code",
      "metadata": {
        "id": "ADRCup0l3ar2",
        "colab_type": "code",
        "colab": {}
      },
      "source": [
        "my_var = tf.Variable(initial_value = my_tensor)"
      ],
      "execution_count": 0,
      "outputs": []
    },
    {
      "cell_type": "code",
      "metadata": {
        "id": "x-vykOAj3dfK",
        "colab_type": "code",
        "colab": {
          "base_uri": "https://localhost:8080/",
          "height": 34
        },
        "outputId": "bbe3cbd0-39e3-457d-f0f3-642e52fbef67"
      },
      "source": [
        "print(my_var)"
      ],
      "execution_count": 8,
      "outputs": [
        {
          "output_type": "stream",
          "text": [
            "<tf.Variable 'Variable:0' shape=(4, 4) dtype=float32_ref>\n"
          ],
          "name": "stdout"
        }
      ]
    },
    {
      "cell_type": "code",
      "metadata": {
        "id": "jRuwBMeY3lQa",
        "colab_type": "code",
        "colab": {}
      },
      "source": [
        "init = tf.global_variables_initializer()"
      ],
      "execution_count": 0,
      "outputs": []
    },
    {
      "cell_type": "code",
      "metadata": {
        "id": "vHZzuzEu3sli",
        "colab_type": "code",
        "colab": {}
      },
      "source": [
        "sess.run(init)"
      ],
      "execution_count": 0,
      "outputs": []
    },
    {
      "cell_type": "code",
      "metadata": {
        "id": "KVfHmARW3vdS",
        "colab_type": "code",
        "colab": {
          "base_uri": "https://localhost:8080/",
          "height": 85
        },
        "outputId": "027947e2-f99a-420a-f218-d01ad656be1f"
      },
      "source": [
        "sess.run(my_var)"
      ],
      "execution_count": 11,
      "outputs": [
        {
          "output_type": "execute_result",
          "data": {
            "text/plain": [
              "array([[0.49601483, 0.0734067 , 0.43926156, 0.47860885],\n",
              "       [0.5390837 , 0.20785248, 0.67559075, 0.23152435],\n",
              "       [0.79199266, 0.81038046, 0.8853841 , 0.2818203 ],\n",
              "       [0.54044056, 0.13465858, 0.87528837, 0.8144319 ]], dtype=float32)"
            ]
          },
          "metadata": {
            "tags": []
          },
          "execution_count": 11
        }
      ]
    },
    {
      "cell_type": "code",
      "metadata": {
        "id": "17hgOjcz3xSn",
        "colab_type": "code",
        "colab": {}
      },
      "source": [
        "ph = tf.placeholder(tf.float32, shape=(None, 5))"
      ],
      "execution_count": 0,
      "outputs": []
    },
    {
      "cell_type": "markdown",
      "metadata": {
        "id": "ZOBXeory4LZ_",
        "colab_type": "text"
      },
      "source": [
        "**Great Job Shivan!**"
      ]
    }
  ]
}